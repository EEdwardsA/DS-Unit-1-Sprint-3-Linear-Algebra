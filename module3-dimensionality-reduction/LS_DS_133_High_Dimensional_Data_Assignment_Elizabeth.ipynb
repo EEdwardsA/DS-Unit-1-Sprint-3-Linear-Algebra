{
  "nbformat": 4,
  "nbformat_minor": 0,
  "metadata": {
    "colab": {
      "name": "LS_DS_133_High_Dimensional_Data_Assignment_Elizabeth.ipynb",
      "provenance": [],
      "collapsed_sections": [],
      "include_colab_link": true
    },
    "kernelspec": {
      "name": "python3",
      "display_name": "Python 3"
    }
  },
  "cells": [
    {
      "cell_type": "markdown",
      "metadata": {
        "id": "view-in-github",
        "colab_type": "text"
      },
      "source": [
        "<a href=\"https://colab.research.google.com/github/EEdwardsA/DS-Unit-1-Sprint-3-Linear-Algebra/blob/master/module3-dimensionality-reduction/LS_DS_133_High_Dimensional_Data_Assignment_Elizabeth.ipynb\" target=\"_parent\"><img src=\"https://colab.research.google.com/assets/colab-badge.svg\" alt=\"Open In Colab\"/></a>"
      ]
    },
    {
      "cell_type": "markdown",
      "metadata": {
        "id": "7wMWCkE1RZpM",
        "colab_type": "text"
      },
      "source": [
        "# Vertical Line Test"
      ]
    },
    {
      "cell_type": "markdown",
      "metadata": {
        "id": "W0-g7aprRv2j",
        "colab_type": "text"
      },
      "source": [
        "## 1.1 Create two graphs, one that passes the vertical line test and one that does not."
      ]
    },
    {
      "cell_type": "code",
      "metadata": {
        "id": "fIJhCtF6RW_U",
        "colab_type": "code",
        "colab": {
          "base_uri": "https://localhost:8080/",
          "height": 281
        },
        "outputId": "20d7b8c9-d2a0-4c65-9fd0-d1c21323202b"
      },
      "source": [
        "import pandas as pd\n",
        "import numpy as np\n",
        "import matplotlib.pyplot as plt\n",
        "\n",
        "x=np.linspace(-5,5,100)\n",
        "y=2*x\n",
        "fig,ax =plt.subplots()\n",
        "plt.plot(x,y,'r')\n",
        "plt.title('A Graph That Passes the Vertical Line Test')\n",
        "plt.show()"
      ],
      "execution_count": null,
      "outputs": [
        {
          "output_type": "display_data",
          "data": {
            "image/png": "[encoded data removed]",
            "text/plain": [
              "<Figure size 432x288 with 1 Axes>"
            ]
          },
          "metadata": {
            "tags": [],
            "needs_background": "light"
          }
        }
      ]
    },
    {
      "cell_type": "code",
      "metadata": {
        "id": "XAaTtzU7mArB",
        "colab_type": "code",
        "colab": {
          "base_uri": "https://localhost:8080/",
          "height": 281
        },
        "outputId": "74def730-62fd-48a2-8ce1-416058c31cf6"
      },
      "source": [
        "f=np.array([[1,2],[-1,2],[1,4],[-1,4]])\n",
        "fig,ax =plt.subplots()\n",
        "plt.plot(f,'r')\n",
        "\n",
        "plt.title(\"A Graph That Doesn't Pass the Vertical Line Test\")\n",
        "plt.show()\n"
      ],
      "execution_count": null,
      "outputs": [
        {
          "output_type": "display_data",
          "data": {
            "image/png": "[encoded data removed]",
            "text/plain": [
              "<Figure size 432x288 with 1 Axes>"
            ]
          },
          "metadata": {
            "tags": [],
            "needs_background": "light"
          }
        }
      ]
    },
    {
      "cell_type": "markdown",
      "metadata": {
        "id": "ckeTKqMgRy7g",
        "colab_type": "text"
      },
      "source": [
        "## 1.2 Why are graphs that don't pass the vertical line test not considered \"functions?\""
      ]
    },
    {
      "cell_type": "markdown",
      "metadata": {
        "id": "Gtl20YeDR6x-",
        "colab_type": "text"
      },
      "source": [
        "Because there are multiple outputs for one input."
      ]
    },
    {
      "cell_type": "markdown",
      "metadata": {
        "id": "g21uN62xSKSk",
        "colab_type": "text"
      },
      "source": [
        "# Functions as Relations"
      ]
    },
    {
      "cell_type": "markdown",
      "metadata": {
        "id": "gwkcV-EMSMNd",
        "colab_type": "text"
      },
      "source": [
        "## 2.1 Which of the following relations are functions? Why?\n",
        "\n",
        "\\begin{align}\n",
        "\\text{Relation 1: } \\{(1, 2), (3, 2), (1, 3)\\}\n",
        "\\\\\n",
        "\\text{Relation 2: } \\{(1, 3), (2, 3), (6, 7)\\}\n",
        "\\\\\n",
        "\\text{Relation 3: } \\{(9, 4), (2, 1), (9, 6)\\}\n",
        "\\\\\n",
        "\\text{Relation 4: } \\{(6, 2), (8, 3), (6, 4)\\}\n",
        "\\\\\n",
        "\\text{Relation 5: } \\{(2, 6), (2, 7), (2, 4)\\}\n",
        "\\end{align}"
      ]
    },
    {
      "cell_type": "markdown",
      "metadata": {
        "id": "750kQUhnpRWF",
        "colab_type": "text"
      },
      "source": [
        "Only relation 2 is a function because the rest of them have multiple y outputs mapped to an x input."
      ]
    },
    {
      "cell_type": "markdown",
      "metadata": {
        "id": "y0U30PrlTAAa",
        "colab_type": "text"
      },
      "source": [
        "# Functions as a mapping between dimensions\n"
      ]
    },
    {
      "cell_type": "markdown",
      "metadata": {
        "id": "pw-OU9qmT5Ua",
        "colab_type": "text"
      },
      "source": [
        "## 3.1 for the following functions what is the dimensionality of the domain (input) and codomain (range/output)?\n",
        "\n",
        "\\begin{align}\n",
        "m(𝑥_1,𝑥_2,𝑥_3)=(x_1+x_2, x_1+x_3, x_2+x_3)\n",
        "\\\\\n",
        "n(𝑥_1,𝑥_2,𝑥_3,𝑥_4)=(x_2^2 + x_3, x_2x_4)\n",
        "\\end{align}"
      ]
    },
    {
      "cell_type": "markdown",
      "metadata": {
        "id": "1_7BtZCc0ObP",
        "colab_type": "text"
      },
      "source": [
        ""
      ]
    },
    {
      "cell_type": "markdown",
      "metadata": {
        "id": "1TKSz3G8s292",
        "colab_type": "text"
      },
      "source": [
        "Function m's domain has 3 dimensions and range has 4 dimensions\n",
        "Function n's domain has 4 dimensions and its range has 2 dimensions"
      ]
    },
    {
      "cell_type": "markdown",
      "metadata": {
        "id": "k4tKHjdHUevC",
        "colab_type": "text"
      },
      "source": [
        "## 3.2 Do you think it's possible to create a function that maps from a lower dimensional space to a higher dimensional space? If so, provide an example."
      ]
    },
    {
      "cell_type": "markdown",
      "metadata": {
        "id": "-AWnIpCJtNhB",
        "colab_type": "text"
      },
      "source": [
        "Yes\n",
        "\n",
        "f(x,y)=(2x + x,3y + 0.5x,-7y)"
      ]
    },
    {
      "cell_type": "markdown",
      "metadata": {
        "id": "2nEWvwVyVWdW",
        "colab_type": "text"
      },
      "source": [
        "# Vector Transformations"
      ]
    },
    {
      "cell_type": "markdown",
      "metadata": {
        "id": "1n0-6FsYVcVk",
        "colab_type": "text"
      },
      "source": [
        "## 4.1 Plug the corresponding unit vectors into each function. Use the output vectors to create a transformation matrix.\n",
        "\n",
        "\\begin{align}\n",
        "p(\\begin{bmatrix}x_1 \\\\ x_2 \\end{bmatrix}) = \\begin{bmatrix} x_1 + 3x_2 \\\\2 x_2 - x_1 \\\\  \\end{bmatrix}\n",
        "\\\\\n",
        "\\\\\n",
        "q(\\begin{bmatrix}x_1 \\\\ x_2 \\\\ x_3\\end{bmatrix}) = \\begin{bmatrix} 4x_1 + x_2 + 2x_3 \\\\2 x_2 - x_1 + 3x_3 \\\\ 5x_1 - 2x_3 + x_2  \\end{bmatrix}\n",
        "\\end{align}"
      ]
    },
    {
      "cell_type": "markdown",
      "metadata": {
        "id": "X-tKMCvIJzEe",
        "colab_type": "text"
      },
      "source": [
        "\n",
        "\\begin{align}\n",
        "T(p) = \\begin{bmatrix} 1 & 3 \\\\ -1 & 2 \\end{bmatrix}\n",
        "\\end{align}\n",
        "\n",
        "\\begin{align}\n",
        "T(q) = \\begin{bmatrix} 4 & 1 & 2 \\\\ -1 & 2 & 3 \\\\ 5 & 1 & -2\\end{bmatrix}\n",
        "\\end{align}"
      ]
    },
    {
      "cell_type": "markdown",
      "metadata": {
        "id": "n5HUOQIxZ2gp",
        "colab_type": "text"
      },
      "source": [
        "## 4.2 Verify that your transformation matrices are correct by choosing an input matrix and calculating the result both via the traditional functions above and also via vector-matrix multiplication."
      ]
    },
    {
      "cell_type": "code",
      "metadata": {
        "id": "gvWTplXuMQKc",
        "colab_type": "code",
        "colab": {
          "base_uri": "https://localhost:8080/",
          "height": 34
        },
        "outputId": "e02eb692-5c1a-49ac-a532-ff94b84d8672"
      },
      "source": [
        "input_p = [2,3]\n",
        "transfo_mat_p = [[1,-1],[3,2]]\n",
        "\n",
        "np.matmul(input_p,transfo_mat_p)"
      ],
      "execution_count": 22,
      "outputs": [
        {
          "output_type": "execute_result",
          "data": {
            "text/plain": [
              "array([11,  4])"
            ]
          },
          "metadata": {
            "tags": []
          },
          "execution_count": 22
        }
      ]
    },
    {
      "cell_type": "code",
      "metadata": {
        "id": "X3oCr-lBMRPG",
        "colab_type": "code",
        "colab": {
          "base_uri": "https://localhost:8080/",
          "height": 34
        },
        "outputId": "ad817e5f-bf6a-4426-fad7-9359816a2fc7"
      },
      "source": [
        "input_q = [2,3,4]\n",
        "transfo_mat_q = [[4,-1,5],[1,2,1],[2,3,-2]]\n",
        "\n",
        "np.matmul(input_q,transfo_mat_q)"
      ],
      "execution_count": 25,
      "outputs": [
        {
          "output_type": "execute_result",
          "data": {
            "text/plain": [
              "array([19, 16,  5])"
            ]
          },
          "metadata": {
            "tags": []
          },
          "execution_count": 25
        }
      ]
    },
    {
      "cell_type": "markdown",
      "metadata": {
        "id": "vEoiri3mak7j",
        "colab_type": "text"
      },
      "source": [
        "# Eigenvalues and Eigenvectors"
      ]
    },
    {
      "cell_type": "markdown",
      "metadata": {
        "id": "5HY0R4u7anIr",
        "colab_type": "text"
      },
      "source": [
        "## 5.1 In your own words, give an explanation for the intuition behind eigenvalues and eigenvectors.\n",
        "\n",
        "- The eigenvector is the vector that does not change its direction from a transformation. The eigenvalue is a measure of how much the eigenvector was stretched or shrunk in the transformation."
      ]
    },
    {
      "cell_type": "markdown",
      "metadata": {
        "id": "VdehMwBtatKI",
        "colab_type": "text"
      },
      "source": [
        "# The Curse of Dimensionality"
      ]
    },
    {
      "cell_type": "markdown",
      "metadata": {
        "id": "4oVrJax-a3SK",
        "colab_type": "text"
      },
      "source": [
        "## 6.1 What are some of the challenges of working with high dimensional spaces?"
      ]
    },
    {
      "cell_type": "markdown",
      "metadata": {
        "id": "dofy3Z5AWznB",
        "colab_type": "text"
      },
      "source": [
        "- Too many dimensions means the data is too spread out and finding true relationships among the data points is harder. Also, your models will be overfitted."
      ]
    },
    {
      "cell_type": "markdown",
      "metadata": {
        "id": "ZiBJxsZla88c",
        "colab_type": "text"
      },
      "source": [
        "## 6.2 What is the rule of thumb for how many observations you should have compared to parameters in your model?"
      ]
    },
    {
      "cell_type": "markdown",
      "metadata": {
        "id": "3JCLemoFWlfb",
        "colab_type": "text"
      },
      "source": [
        "- You should have 5 times as many observations as parameters"
      ]
    },
    {
      "cell_type": "markdown",
      "metadata": {
        "id": "NZmqdeygbHJx",
        "colab_type": "text"
      },
      "source": [
        "# Principal Component Analysis"
      ]
    },
    {
      "cell_type": "markdown",
      "metadata": {
        "id": "7iEheetpbJdN",
        "colab_type": "text"
      },
      "source": [
        "## 7.1 Code for loading and cleaning the 2013 national dataset from the [Housing Affordability Data System (HADS)](https://www.huduser.gov/portal/datasets/hads/hads.html) --housing data, can be found below. \n",
        "\n",
        "## Perform PCA on the processed dataset `national_processed` (Make sure you standardize your data!) and then make a scatterplot of PC1 against PC2. Some of our discussion and work around PCA with this dataset will continue during tomorrow's lecture and assignment.\n",
        "\n",
        "Not only does this dataset have decent amount columns to begin with (99), but in preparing the data for PCA we have also [one-hot-encoded](https://hackernoon.com/what-is-one-hot-encoding-why-and-when-do-you-have-to-use-it-e3c6186d008f#targetText=One%20hot%20encoding%20is%20a,the%20entry%20in%20the%20dataset.) all of the categorical variables. This has the effect of creating a new column for each individual category of each categorical variable. After processing this dataset has 64738 columns. --Das a lot of columns.\n",
        "\n",
        "Don't worry too much about the mechanics of one-hot encoding right now, you will learn and experiment with a whole bunch of categorical encoding approaches in unit 2. \n",
        "\n",
        "The code below will read in the dataset and perform the one-hot encoding of the categorical variables. Start adding your PCA code at the bottom of the provided code."
      ]
    },
    {
      "cell_type": "code",
      "metadata": {
        "id": "Us4nNFs02HlD",
        "colab_type": "code",
        "colab": {
          "base_uri": "https://localhost:8080/",
          "height": 355
        },
        "outputId": "3c00b3a9-9875-42ae-c533-f7b7a8351f95"
      },
      "source": [
        "from urllib.request import urlopen\n",
        "from zipfile import ZipFile\n",
        "from io import BytesIO\n",
        "import os.path\n",
        "import pandas as pd\n",
        "import numpy as np\n",
        "import matplotlib.pyplot as plt\n",
        "\n",
        "# Read Natinal Data \n",
        "national_url = 'https://www.huduser.gov/portal/datasets/hads/hads2013n_ASCII.zip'\n",
        "national_file = 'thads2013n.txt'\n",
        "\n",
        "if os.path.exists(national_file):\n",
        "    national = pd.read_csv(national_file)\n",
        "else: \n",
        "    z_national = urlopen(national_url)\n",
        "    zip_national = ZipFile(BytesIO(z_national.read())).extract(national_file)\n",
        "    national = pd.read_csv(zip_national)\n",
        "\n",
        "print(national.shape)\n",
        "national.head()"
      ],
      "execution_count": 26,
      "outputs": [
        {
          "output_type": "stream",
          "text": [
            "(64535, 99)\n"
          ],
          "name": "stdout"
        },
        {
          "output_type": "execute_result",
          "data": {
            "text/html": [
              "<div>\n",
              "<style scoped>\n",
              "    .dataframe tbody tr th:only-of-type {\n",
              "        vertical-align: middle;\n",
              "    }\n",
              "\n",
              "    .dataframe tbody tr th {\n",
              "        vertical-align: top;\n",
              "    }\n",
              "\n",
              "    .dataframe thead th {\n",
              "        text-align: right;\n",
              "    }\n",
              "</style>\n",
              "<table border=\"1\" class=\"dataframe\">\n",
              "  <thead>\n",
              "    <tr style=\"text-align: right;\">\n",
              "      <th></th>\n",
              "      <th>CONTROL</th>\n",
              "      <th>AGE1</th>\n",
              "      <th>METRO3</th>\n",
              "      <th>REGION</th>\n",
              "      <th>LMED</th>\n",
              "      <th>FMR</th>\n",
              "      <th>L30</th>\n",
              "      <th>L50</th>\n",
              "      <th>L80</th>\n",
              "      <th>IPOV</th>\n",
              "      <th>BEDRMS</th>\n",
              "      <th>BUILT</th>\n",
              "      <th>STATUS</th>\n",
              "      <th>TYPE</th>\n",
              "      <th>VALUE</th>\n",
              "      <th>VACANCY</th>\n",
              "      <th>TENURE</th>\n",
              "      <th>NUNITS</th>\n",
              "      <th>ROOMS</th>\n",
              "      <th>WEIGHT</th>\n",
              "      <th>PER</th>\n",
              "      <th>ZINC2</th>\n",
              "      <th>ZADEQ</th>\n",
              "      <th>ZSMHC</th>\n",
              "      <th>STRUCTURETYPE</th>\n",
              "      <th>OWNRENT</th>\n",
              "      <th>UTILITY</th>\n",
              "      <th>OTHERCOST</th>\n",
              "      <th>COST06</th>\n",
              "      <th>COST12</th>\n",
              "      <th>COST08</th>\n",
              "      <th>COSTMED</th>\n",
              "      <th>TOTSAL</th>\n",
              "      <th>ASSISTED</th>\n",
              "      <th>GLMED</th>\n",
              "      <th>GL30</th>\n",
              "      <th>GL50</th>\n",
              "      <th>GL80</th>\n",
              "      <th>APLMED</th>\n",
              "      <th>ABL30</th>\n",
              "      <th>...</th>\n",
              "      <th>COST08RELPOVCAT</th>\n",
              "      <th>COST08RELFMRPCT</th>\n",
              "      <th>COST08RELFMRCAT</th>\n",
              "      <th>COST12RELAMIPCT</th>\n",
              "      <th>COST12RELAMICAT</th>\n",
              "      <th>COST12RELPOVPCT</th>\n",
              "      <th>COST12RELPOVCAT</th>\n",
              "      <th>COST12RELFMRPCT</th>\n",
              "      <th>COST12RELFMRCAT</th>\n",
              "      <th>COSTMedRELAMIPCT</th>\n",
              "      <th>COSTMedRELAMICAT</th>\n",
              "      <th>COSTMedRELPOVPCT</th>\n",
              "      <th>COSTMedRELPOVCAT</th>\n",
              "      <th>COSTMedRELFMRPCT</th>\n",
              "      <th>COSTMedRELFMRCAT</th>\n",
              "      <th>FMTZADEQ</th>\n",
              "      <th>FMTMETRO3</th>\n",
              "      <th>FMTBUILT</th>\n",
              "      <th>FMTSTRUCTURETYPE</th>\n",
              "      <th>FMTBEDRMS</th>\n",
              "      <th>FMTOWNRENT</th>\n",
              "      <th>FMTCOST06RELPOVCAT</th>\n",
              "      <th>FMTCOST08RELPOVCAT</th>\n",
              "      <th>FMTCOST12RELPOVCAT</th>\n",
              "      <th>FMTCOSTMEDRELPOVCAT</th>\n",
              "      <th>FMTINCRELPOVCAT</th>\n",
              "      <th>FMTCOST06RELFMRCAT</th>\n",
              "      <th>FMTCOST08RELFMRCAT</th>\n",
              "      <th>FMTCOST12RELFMRCAT</th>\n",
              "      <th>FMTCOSTMEDRELFMRCAT</th>\n",
              "      <th>FMTINCRELFMRCAT</th>\n",
              "      <th>FMTCOST06RELAMICAT</th>\n",
              "      <th>FMTCOST08RELAMICAT</th>\n",
              "      <th>FMTCOST12RELAMICAT</th>\n",
              "      <th>FMTCOSTMEDRELAMICAT</th>\n",
              "      <th>FMTINCRELAMICAT</th>\n",
              "      <th>FMTASSISTED</th>\n",
              "      <th>FMTBURDEN</th>\n",
              "      <th>FMTREGION</th>\n",
              "      <th>FMTSTATUS</th>\n",
              "    </tr>\n",
              "  </thead>\n",
              "  <tbody>\n",
              "    <tr>\n",
              "      <th>0</th>\n",
              "      <td>'100003130103'</td>\n",
              "      <td>82</td>\n",
              "      <td>'3'</td>\n",
              "      <td>'1'</td>\n",
              "      <td>73738</td>\n",
              "      <td>956</td>\n",
              "      <td>15738</td>\n",
              "      <td>26213</td>\n",
              "      <td>40322</td>\n",
              "      <td>11067</td>\n",
              "      <td>2</td>\n",
              "      <td>2006</td>\n",
              "      <td>'1'</td>\n",
              "      <td>1</td>\n",
              "      <td>40000</td>\n",
              "      <td>-6</td>\n",
              "      <td>'1'</td>\n",
              "      <td>1</td>\n",
              "      <td>6</td>\n",
              "      <td>3117.394239</td>\n",
              "      <td>1</td>\n",
              "      <td>18021</td>\n",
              "      <td>'1'</td>\n",
              "      <td>533</td>\n",
              "      <td>1</td>\n",
              "      <td>'1'</td>\n",
              "      <td>169.000000</td>\n",
              "      <td>213.750000</td>\n",
              "      <td>648.588189</td>\n",
              "      <td>803.050535</td>\n",
              "      <td>696.905247</td>\n",
              "      <td>615.156712</td>\n",
              "      <td>0</td>\n",
              "      <td>-9</td>\n",
              "      <td>73738</td>\n",
              "      <td>15738</td>\n",
              "      <td>26213</td>\n",
              "      <td>40322</td>\n",
              "      <td>51616.6</td>\n",
              "      <td>20234.571429</td>\n",
              "      <td>...</td>\n",
              "      <td>4</td>\n",
              "      <td>72.898038</td>\n",
              "      <td>2</td>\n",
              "      <td>48.402635</td>\n",
              "      <td>2</td>\n",
              "      <td>290.250487</td>\n",
              "      <td>4</td>\n",
              "      <td>84.001102</td>\n",
              "      <td>2</td>\n",
              "      <td>37.077624</td>\n",
              "      <td>2</td>\n",
              "      <td>222.339102</td>\n",
              "      <td>4</td>\n",
              "      <td>64.346936</td>\n",
              "      <td>2</td>\n",
              "      <td>'1 Adequate'</td>\n",
              "      <td>'-5'</td>\n",
              "      <td>'2000-2009'</td>\n",
              "      <td>'1 Single Family'</td>\n",
              "      <td>'2 2BR'</td>\n",
              "      <td>'1 Owner'</td>\n",
              "      <td>'4 200%+ Poverty'</td>\n",
              "      <td>'4 200%+ Poverty'</td>\n",
              "      <td>'4 200%+ Poverty'</td>\n",
              "      <td>'4 200%+ Poverty'</td>\n",
              "      <td>'3 150-200% Poverty'</td>\n",
              "      <td>'2 50.1 - 100% FMR'</td>\n",
              "      <td>'2 50.1 - 100% FMR'</td>\n",
              "      <td>'2 50.1 - 100% FMR'</td>\n",
              "      <td>'2 50.1 - 100% FMR'</td>\n",
              "      <td>'1 LTE 50% FMR'</td>\n",
              "      <td>'2 30 - 50% AMI'</td>\n",
              "      <td>'2 30 - 50% AMI'</td>\n",
              "      <td>'2 30 - 50% AMI'</td>\n",
              "      <td>'2 30 - 50% AMI'</td>\n",
              "      <td>'2 30 - 50% AMI'</td>\n",
              "      <td>'.'</td>\n",
              "      <td>'2 30% to 50%'</td>\n",
              "      <td>'-5'</td>\n",
              "      <td>'-5'</td>\n",
              "    </tr>\n",
              "    <tr>\n",
              "      <th>1</th>\n",
              "      <td>'100006110249'</td>\n",
              "      <td>50</td>\n",
              "      <td>'5'</td>\n",
              "      <td>'3'</td>\n",
              "      <td>55846</td>\n",
              "      <td>1100</td>\n",
              "      <td>17165</td>\n",
              "      <td>28604</td>\n",
              "      <td>45744</td>\n",
              "      <td>24218</td>\n",
              "      <td>4</td>\n",
              "      <td>1980</td>\n",
              "      <td>'1'</td>\n",
              "      <td>1</td>\n",
              "      <td>130000</td>\n",
              "      <td>-6</td>\n",
              "      <td>'1'</td>\n",
              "      <td>1</td>\n",
              "      <td>6</td>\n",
              "      <td>2150.725544</td>\n",
              "      <td>4</td>\n",
              "      <td>122961</td>\n",
              "      <td>'1'</td>\n",
              "      <td>487</td>\n",
              "      <td>1</td>\n",
              "      <td>'1'</td>\n",
              "      <td>245.333333</td>\n",
              "      <td>58.333333</td>\n",
              "      <td>1167.640781</td>\n",
              "      <td>1669.643405</td>\n",
              "      <td>1324.671218</td>\n",
              "      <td>1058.988479</td>\n",
              "      <td>123000</td>\n",
              "      <td>-9</td>\n",
              "      <td>55846</td>\n",
              "      <td>17165</td>\n",
              "      <td>28604</td>\n",
              "      <td>45744</td>\n",
              "      <td>55846.0</td>\n",
              "      <td>19911.400000</td>\n",
              "      <td>...</td>\n",
              "      <td>4</td>\n",
              "      <td>120.424656</td>\n",
              "      <td>3</td>\n",
              "      <td>103.094063</td>\n",
              "      <td>6</td>\n",
              "      <td>275.768999</td>\n",
              "      <td>4</td>\n",
              "      <td>151.785764</td>\n",
              "      <td>3</td>\n",
              "      <td>65.388468</td>\n",
              "      <td>4</td>\n",
              "      <td>174.909320</td>\n",
              "      <td>3</td>\n",
              "      <td>96.271680</td>\n",
              "      <td>2</td>\n",
              "      <td>'1 Adequate'</td>\n",
              "      <td>'-5'</td>\n",
              "      <td>'1980-1989'</td>\n",
              "      <td>'1 Single Family'</td>\n",
              "      <td>'4 4BR+'</td>\n",
              "      <td>'1 Owner'</td>\n",
              "      <td>'3 150-200% Poverty'</td>\n",
              "      <td>'4 200%+ Poverty'</td>\n",
              "      <td>'4 200%+ Poverty'</td>\n",
              "      <td>'3 150-200% Poverty'</td>\n",
              "      <td>'4 200%+ Poverty'</td>\n",
              "      <td>'3 GT FMR'</td>\n",
              "      <td>'3 GT FMR'</td>\n",
              "      <td>'3 GT FMR'</td>\n",
              "      <td>'2 50.1 - 100% FMR'</td>\n",
              "      <td>'3 GT FMR'</td>\n",
              "      <td>'4 60 - 80% AMI'</td>\n",
              "      <td>'4 60 - 80% AMI'</td>\n",
              "      <td>'6 100 - 120% AMI'</td>\n",
              "      <td>'4 60 - 80% AMI'</td>\n",
              "      <td>'7 120% AMI +'</td>\n",
              "      <td>'.'</td>\n",
              "      <td>'1 Less than 30%'</td>\n",
              "      <td>'-5'</td>\n",
              "      <td>'-5'</td>\n",
              "    </tr>\n",
              "    <tr>\n",
              "      <th>2</th>\n",
              "      <td>'100006370140'</td>\n",
              "      <td>53</td>\n",
              "      <td>'5'</td>\n",
              "      <td>'3'</td>\n",
              "      <td>55846</td>\n",
              "      <td>1100</td>\n",
              "      <td>13750</td>\n",
              "      <td>22897</td>\n",
              "      <td>36614</td>\n",
              "      <td>15470</td>\n",
              "      <td>4</td>\n",
              "      <td>1985</td>\n",
              "      <td>'1'</td>\n",
              "      <td>1</td>\n",
              "      <td>150000</td>\n",
              "      <td>-6</td>\n",
              "      <td>'1'</td>\n",
              "      <td>1</td>\n",
              "      <td>7</td>\n",
              "      <td>2213.789404</td>\n",
              "      <td>2</td>\n",
              "      <td>27974</td>\n",
              "      <td>'1'</td>\n",
              "      <td>1405</td>\n",
              "      <td>1</td>\n",
              "      <td>'1'</td>\n",
              "      <td>159.000000</td>\n",
              "      <td>37.500000</td>\n",
              "      <td>1193.393209</td>\n",
              "      <td>1772.627006</td>\n",
              "      <td>1374.582175</td>\n",
              "      <td>1068.025168</td>\n",
              "      <td>28000</td>\n",
              "      <td>-9</td>\n",
              "      <td>55846</td>\n",
              "      <td>13750</td>\n",
              "      <td>22897</td>\n",
              "      <td>36614</td>\n",
              "      <td>44676.8</td>\n",
              "      <td>19937.500000</td>\n",
              "      <td>...</td>\n",
              "      <td>4</td>\n",
              "      <td>124.962016</td>\n",
              "      <td>3</td>\n",
              "      <td>109.452905</td>\n",
              "      <td>6</td>\n",
              "      <td>458.339239</td>\n",
              "      <td>4</td>\n",
              "      <td>161.147910</td>\n",
              "      <td>3</td>\n",
              "      <td>65.946449</td>\n",
              "      <td>4</td>\n",
              "      <td>276.153890</td>\n",
              "      <td>4</td>\n",
              "      <td>97.093197</td>\n",
              "      <td>2</td>\n",
              "      <td>'1 Adequate'</td>\n",
              "      <td>'-5'</td>\n",
              "      <td>'1980-1989'</td>\n",
              "      <td>'1 Single Family'</td>\n",
              "      <td>'4 4BR+'</td>\n",
              "      <td>'1 Owner'</td>\n",
              "      <td>'4 200%+ Poverty'</td>\n",
              "      <td>'4 200%+ Poverty'</td>\n",
              "      <td>'4 200%+ Poverty'</td>\n",
              "      <td>'4 200%+ Poverty'</td>\n",
              "      <td>'3 150-200% Poverty'</td>\n",
              "      <td>'3 GT FMR'</td>\n",
              "      <td>'3 GT FMR'</td>\n",
              "      <td>'3 GT FMR'</td>\n",
              "      <td>'2 50.1 - 100% FMR'</td>\n",
              "      <td>'2 50.1 - 100% FMR'</td>\n",
              "      <td>'4 60 - 80% AMI'</td>\n",
              "      <td>'5 80 - 100% AMI'</td>\n",
              "      <td>'6 100 - 120% AMI'</td>\n",
              "      <td>'4 60 - 80% AMI'</td>\n",
              "      <td>'4 60 - 80% AMI'</td>\n",
              "      <td>'.'</td>\n",
              "      <td>'3 50% or More'</td>\n",
              "      <td>'-5'</td>\n",
              "      <td>'-5'</td>\n",
              "    </tr>\n",
              "    <tr>\n",
              "      <th>3</th>\n",
              "      <td>'100006520140'</td>\n",
              "      <td>67</td>\n",
              "      <td>'5'</td>\n",
              "      <td>'3'</td>\n",
              "      <td>55846</td>\n",
              "      <td>949</td>\n",
              "      <td>13750</td>\n",
              "      <td>22897</td>\n",
              "      <td>36614</td>\n",
              "      <td>13964</td>\n",
              "      <td>3</td>\n",
              "      <td>1985</td>\n",
              "      <td>'1'</td>\n",
              "      <td>1</td>\n",
              "      <td>200000</td>\n",
              "      <td>-6</td>\n",
              "      <td>'1'</td>\n",
              "      <td>1</td>\n",
              "      <td>6</td>\n",
              "      <td>2364.585097</td>\n",
              "      <td>2</td>\n",
              "      <td>32220</td>\n",
              "      <td>'1'</td>\n",
              "      <td>279</td>\n",
              "      <td>1</td>\n",
              "      <td>'1'</td>\n",
              "      <td>179.000000</td>\n",
              "      <td>70.666667</td>\n",
              "      <td>1578.857612</td>\n",
              "      <td>2351.169341</td>\n",
              "      <td>1820.442900</td>\n",
              "      <td>1411.700224</td>\n",
              "      <td>0</td>\n",
              "      <td>-9</td>\n",
              "      <td>55846</td>\n",
              "      <td>13750</td>\n",
              "      <td>22897</td>\n",
              "      <td>36614</td>\n",
              "      <td>44676.8</td>\n",
              "      <td>17875.000000</td>\n",
              "      <td>...</td>\n",
              "      <td>4</td>\n",
              "      <td>191.827492</td>\n",
              "      <td>3</td>\n",
              "      <td>161.926709</td>\n",
              "      <td>7</td>\n",
              "      <td>673.494512</td>\n",
              "      <td>4</td>\n",
              "      <td>247.752301</td>\n",
              "      <td>3</td>\n",
              "      <td>97.224801</td>\n",
              "      <td>5</td>\n",
              "      <td>404.382763</td>\n",
              "      <td>4</td>\n",
              "      <td>148.756610</td>\n",
              "      <td>3</td>\n",
              "      <td>'1 Adequate'</td>\n",
              "      <td>'-5'</td>\n",
              "      <td>'1980-1989'</td>\n",
              "      <td>'1 Single Family'</td>\n",
              "      <td>'3 3BR'</td>\n",
              "      <td>'1 Owner'</td>\n",
              "      <td>'4 200%+ Poverty'</td>\n",
              "      <td>'4 200%+ Poverty'</td>\n",
              "      <td>'4 200%+ Poverty'</td>\n",
              "      <td>'4 200%+ Poverty'</td>\n",
              "      <td>'4 200%+ Poverty'</td>\n",
              "      <td>'3 GT FMR'</td>\n",
              "      <td>'3 GT FMR'</td>\n",
              "      <td>'3 GT FMR'</td>\n",
              "      <td>'3 GT FMR'</td>\n",
              "      <td>'2 50.1 - 100% FMR'</td>\n",
              "      <td>'6 100 - 120% AMI'</td>\n",
              "      <td>'7 120% AMI +'</td>\n",
              "      <td>'7 120% AMI +'</td>\n",
              "      <td>'5 80 - 100% AMI'</td>\n",
              "      <td>'4 60 - 80% AMI'</td>\n",
              "      <td>'.'</td>\n",
              "      <td>'1 Less than 30%'</td>\n",
              "      <td>'-5'</td>\n",
              "      <td>'-5'</td>\n",
              "    </tr>\n",
              "    <tr>\n",
              "      <th>4</th>\n",
              "      <td>'100007130148'</td>\n",
              "      <td>26</td>\n",
              "      <td>'1'</td>\n",
              "      <td>'3'</td>\n",
              "      <td>60991</td>\n",
              "      <td>737</td>\n",
              "      <td>14801</td>\n",
              "      <td>24628</td>\n",
              "      <td>39421</td>\n",
              "      <td>15492</td>\n",
              "      <td>2</td>\n",
              "      <td>1980</td>\n",
              "      <td>'1'</td>\n",
              "      <td>1</td>\n",
              "      <td>-6</td>\n",
              "      <td>-6</td>\n",
              "      <td>'2'</td>\n",
              "      <td>100</td>\n",
              "      <td>4</td>\n",
              "      <td>2314.524902</td>\n",
              "      <td>2</td>\n",
              "      <td>96874</td>\n",
              "      <td>'1'</td>\n",
              "      <td>759</td>\n",
              "      <td>5</td>\n",
              "      <td>'2'</td>\n",
              "      <td>146.000000</td>\n",
              "      <td>12.500000</td>\n",
              "      <td>759.000000</td>\n",
              "      <td>759.000000</td>\n",
              "      <td>759.000000</td>\n",
              "      <td>759.000000</td>\n",
              "      <td>96900</td>\n",
              "      <td>0</td>\n",
              "      <td>60991</td>\n",
              "      <td>14801</td>\n",
              "      <td>24628</td>\n",
              "      <td>39421</td>\n",
              "      <td>48792.8</td>\n",
              "      <td>16651.125000</td>\n",
              "      <td>...</td>\n",
              "      <td>3</td>\n",
              "      <td>102.985075</td>\n",
              "      <td>3</td>\n",
              "      <td>55.308707</td>\n",
              "      <td>3</td>\n",
              "      <td>195.972115</td>\n",
              "      <td>3</td>\n",
              "      <td>102.985075</td>\n",
              "      <td>3</td>\n",
              "      <td>55.308707</td>\n",
              "      <td>3</td>\n",
              "      <td>195.972115</td>\n",
              "      <td>3</td>\n",
              "      <td>102.985075</td>\n",
              "      <td>3</td>\n",
              "      <td>'1 Adequate'</td>\n",
              "      <td>'Central City'</td>\n",
              "      <td>'1980-1989'</td>\n",
              "      <td>'5 50+ units'</td>\n",
              "      <td>'2 2BR'</td>\n",
              "      <td>'2 Renter'</td>\n",
              "      <td>'3 150-200% Poverty'</td>\n",
              "      <td>'3 150-200% Poverty'</td>\n",
              "      <td>'3 150-200% Poverty'</td>\n",
              "      <td>'3 150-200% Poverty'</td>\n",
              "      <td>'4 200%+ Poverty'</td>\n",
              "      <td>'3 GT FMR'</td>\n",
              "      <td>'3 GT FMR'</td>\n",
              "      <td>'3 GT FMR'</td>\n",
              "      <td>'3 GT FMR'</td>\n",
              "      <td>'3 GT FMR'</td>\n",
              "      <td>'3 50 - 60% AMI'</td>\n",
              "      <td>'3 50 - 60% AMI'</td>\n",
              "      <td>'3 50 - 60% AMI'</td>\n",
              "      <td>'3 50 - 60% AMI'</td>\n",
              "      <td>'7 120% AMI +'</td>\n",
              "      <td>'0 Not Assisted'</td>\n",
              "      <td>'1 Less than 30%'</td>\n",
              "      <td>'-5'</td>\n",
              "      <td>'-5'</td>\n",
              "    </tr>\n",
              "  </tbody>\n",
              "</table>\n",
              "<p>5 rows × 99 columns</p>\n",
              "</div>"
            ],
            "text/plain": [
              "          CONTROL  AGE1 METRO3  ...          FMTBURDEN  FMTREGION  FMTSTATUS\n",
              "0  '100003130103'    82    '3'  ...     '2 30% to 50%'       '-5'       '-5'\n",
              "1  '100006110249'    50    '5'  ...  '1 Less than 30%'       '-5'       '-5'\n",
              "2  '100006370140'    53    '5'  ...    '3 50% or More'       '-5'       '-5'\n",
              "3  '100006520140'    67    '5'  ...  '1 Less than 30%'       '-5'       '-5'\n",
              "4  '100007130148'    26    '1'  ...  '1 Less than 30%'       '-5'       '-5'\n",
              "\n",
              "[5 rows x 99 columns]"
            ]
          },
          "metadata": {
            "tags": []
          },
          "execution_count": 26
        }
      ]
    },
    {
      "cell_type": "code",
      "metadata": {
        "id": "O5zrMTud2qFU",
        "colab_type": "code",
        "colab": {
          "base_uri": "https://localhost:8080/",
          "height": 221
        },
        "outputId": "145fa23f-2f9e-4a93-f1a9-43b6d1cd43c0"
      },
      "source": [
        "# Look at datatypes\n",
        "# a lot of object datatypes even though they seem to be strings of numbers.\n",
        "national.dtypes"
      ],
      "execution_count": 27,
      "outputs": [
        {
          "output_type": "execute_result",
          "data": {
            "text/plain": [
              "CONTROL            object\n",
              "AGE1                int64\n",
              "METRO3             object\n",
              "REGION             object\n",
              "LMED                int64\n",
              "                    ...  \n",
              "FMTINCRELAMICAT    object\n",
              "FMTASSISTED        object\n",
              "FMTBURDEN          object\n",
              "FMTREGION          object\n",
              "FMTSTATUS          object\n",
              "Length: 99, dtype: object"
            ]
          },
          "metadata": {
            "tags": []
          },
          "execution_count": 27
        }
      ]
    },
    {
      "cell_type": "code",
      "metadata": {
        "id": "yIrOjVmd2yLz",
        "colab_type": "code",
        "colab": {
          "base_uri": "https://localhost:8080/",
          "height": 34
        },
        "outputId": "98b62051-18f1-4c16-b9b5-beee6b35de21"
      },
      "source": [
        "# check for null values\n",
        "national.isnull().sum().any()"
      ],
      "execution_count": 28,
      "outputs": [
        {
          "output_type": "execute_result",
          "data": {
            "text/plain": [
              "False"
            ]
          },
          "metadata": {
            "tags": []
          },
          "execution_count": 28
        }
      ]
    },
    {
      "cell_type": "code",
      "metadata": {
        "id": "2u9tdmwX3KL_",
        "colab_type": "code",
        "colab": {
          "base_uri": "https://localhost:8080/",
          "height": 51
        },
        "outputId": "51dda268-e2b4-4724-fd59-c4f6c1a03185"
      },
      "source": [
        "# check for number of categorical vs numeric columns\n",
        "cat_cols = national.columns[national.dtypes=='object']\n",
        "num_cols = national.columns[national.dtypes!='object']\n",
        "\n",
        "print(f'{len(cat_cols)} categorical columns')\n",
        "print(f'{len(num_cols)} numerical columns')"
      ],
      "execution_count": 29,
      "outputs": [
        {
          "output_type": "stream",
          "text": [
            "32 categorical columns\n",
            "67 numerical columns\n"
          ],
          "name": "stdout"
        }
      ]
    },
    {
      "cell_type": "code",
      "metadata": {
        "id": "UMHOtOs_3gcL",
        "colab_type": "code",
        "colab": {
          "base_uri": "https://localhost:8080/",
          "height": 221
        },
        "outputId": "62545d18-1033-4dbd-f925-423814e43ca8"
      },
      "source": [
        "# We're making a copy of our data in case we mess something up.\n",
        "national_processed = national.copy()\n",
        "\n",
        "# Categorically Encode our Variables:\n",
        "# They need to all be numeric before we do PCA.\n",
        "# https://pbpython.com/categorical-encoding.html\n",
        "\n",
        "# Cast categorical columns to \"category\" data type\n",
        "national_processed[cat_cols] = national_processed[cat_cols].astype('category')\n",
        "\n",
        "national_processed.dtypes"
      ],
      "execution_count": 31,
      "outputs": [
        {
          "output_type": "execute_result",
          "data": {
            "text/plain": [
              "CONTROL            category\n",
              "AGE1                  int64\n",
              "METRO3             category\n",
              "REGION             category\n",
              "LMED                  int64\n",
              "                     ...   \n",
              "FMTINCRELAMICAT    category\n",
              "FMTASSISTED        category\n",
              "FMTBURDEN          category\n",
              "FMTREGION          category\n",
              "FMTSTATUS          category\n",
              "Length: 99, dtype: object"
            ]
          },
          "metadata": {
            "tags": []
          },
          "execution_count": 31
        }
      ]
    },
    {
      "cell_type": "code",
      "metadata": {
        "id": "ymxU-aPtQ1eq",
        "colab_type": "code",
        "colab": {
          "base_uri": "https://localhost:8080/",
          "height": 270
        },
        "outputId": "cb69d8d9-3333-4567-dc92-b6be501b4483"
      },
      "source": [
        "# Replace all category cell values with their numeric category codes\n",
        "for col in cat_cols:\n",
        "  national_processed[col] = national_processed[col].cat.codes\n",
        "\n",
        "print(national_processed.shape)\n",
        "national_processed.head()"
      ],
      "execution_count": 32,
      "outputs": [
        {
          "output_type": "stream",
          "text": [
            "(64535, 99)\n"
          ],
          "name": "stdout"
        },
        {
          "output_type": "execute_result",
          "data": {
            "text/html": [
              "<div>\n",
              "<style scoped>\n",
              "    .dataframe tbody tr th:only-of-type {\n",
              "        vertical-align: middle;\n",
              "    }\n",
              "\n",
              "    .dataframe tbody tr th {\n",
              "        vertical-align: top;\n",
              "    }\n",
              "\n",
              "    .dataframe thead th {\n",
              "        text-align: right;\n",
              "    }\n",
              "</style>\n",
              "<table border=\"1\" class=\"dataframe\">\n",
              "  <thead>\n",
              "    <tr style=\"text-align: right;\">\n",
              "      <th></th>\n",
              "      <th>CONTROL</th>\n",
              "      <th>AGE1</th>\n",
              "      <th>METRO3</th>\n",
              "      <th>REGION</th>\n",
              "      <th>LMED</th>\n",
              "      <th>FMR</th>\n",
              "      <th>L30</th>\n",
              "      <th>L50</th>\n",
              "      <th>L80</th>\n",
              "      <th>IPOV</th>\n",
              "      <th>BEDRMS</th>\n",
              "      <th>BUILT</th>\n",
              "      <th>STATUS</th>\n",
              "      <th>TYPE</th>\n",
              "      <th>VALUE</th>\n",
              "      <th>VACANCY</th>\n",
              "      <th>TENURE</th>\n",
              "      <th>NUNITS</th>\n",
              "      <th>ROOMS</th>\n",
              "      <th>WEIGHT</th>\n",
              "      <th>PER</th>\n",
              "      <th>ZINC2</th>\n",
              "      <th>ZADEQ</th>\n",
              "      <th>ZSMHC</th>\n",
              "      <th>STRUCTURETYPE</th>\n",
              "      <th>OWNRENT</th>\n",
              "      <th>UTILITY</th>\n",
              "      <th>OTHERCOST</th>\n",
              "      <th>COST06</th>\n",
              "      <th>COST12</th>\n",
              "      <th>COST08</th>\n",
              "      <th>COSTMED</th>\n",
              "      <th>TOTSAL</th>\n",
              "      <th>ASSISTED</th>\n",
              "      <th>GLMED</th>\n",
              "      <th>GL30</th>\n",
              "      <th>GL50</th>\n",
              "      <th>GL80</th>\n",
              "      <th>APLMED</th>\n",
              "      <th>ABL30</th>\n",
              "      <th>...</th>\n",
              "      <th>COST08RELPOVCAT</th>\n",
              "      <th>COST08RELFMRPCT</th>\n",
              "      <th>COST08RELFMRCAT</th>\n",
              "      <th>COST12RELAMIPCT</th>\n",
              "      <th>COST12RELAMICAT</th>\n",
              "      <th>COST12RELPOVPCT</th>\n",
              "      <th>COST12RELPOVCAT</th>\n",
              "      <th>COST12RELFMRPCT</th>\n",
              "      <th>COST12RELFMRCAT</th>\n",
              "      <th>COSTMedRELAMIPCT</th>\n",
              "      <th>COSTMedRELAMICAT</th>\n",
              "      <th>COSTMedRELPOVPCT</th>\n",
              "      <th>COSTMedRELPOVCAT</th>\n",
              "      <th>COSTMedRELFMRPCT</th>\n",
              "      <th>COSTMedRELFMRCAT</th>\n",
              "      <th>FMTZADEQ</th>\n",
              "      <th>FMTMETRO3</th>\n",
              "      <th>FMTBUILT</th>\n",
              "      <th>FMTSTRUCTURETYPE</th>\n",
              "      <th>FMTBEDRMS</th>\n",
              "      <th>FMTOWNRENT</th>\n",
              "      <th>FMTCOST06RELPOVCAT</th>\n",
              "      <th>FMTCOST08RELPOVCAT</th>\n",
              "      <th>FMTCOST12RELPOVCAT</th>\n",
              "      <th>FMTCOSTMEDRELPOVCAT</th>\n",
              "      <th>FMTINCRELPOVCAT</th>\n",
              "      <th>FMTCOST06RELFMRCAT</th>\n",
              "      <th>FMTCOST08RELFMRCAT</th>\n",
              "      <th>FMTCOST12RELFMRCAT</th>\n",
              "      <th>FMTCOSTMEDRELFMRCAT</th>\n",
              "      <th>FMTINCRELFMRCAT</th>\n",
              "      <th>FMTCOST06RELAMICAT</th>\n",
              "      <th>FMTCOST08RELAMICAT</th>\n",
              "      <th>FMTCOST12RELAMICAT</th>\n",
              "      <th>FMTCOSTMEDRELAMICAT</th>\n",
              "      <th>FMTINCRELAMICAT</th>\n",
              "      <th>FMTASSISTED</th>\n",
              "      <th>FMTBURDEN</th>\n",
              "      <th>FMTREGION</th>\n",
              "      <th>FMTSTATUS</th>\n",
              "    </tr>\n",
              "  </thead>\n",
              "  <tbody>\n",
              "    <tr>\n",
              "      <th>0</th>\n",
              "      <td>0</td>\n",
              "      <td>82</td>\n",
              "      <td>2</td>\n",
              "      <td>0</td>\n",
              "      <td>73738</td>\n",
              "      <td>956</td>\n",
              "      <td>15738</td>\n",
              "      <td>26213</td>\n",
              "      <td>40322</td>\n",
              "      <td>11067</td>\n",
              "      <td>2</td>\n",
              "      <td>2006</td>\n",
              "      <td>0</td>\n",
              "      <td>1</td>\n",
              "      <td>40000</td>\n",
              "      <td>-6</td>\n",
              "      <td>1</td>\n",
              "      <td>1</td>\n",
              "      <td>6</td>\n",
              "      <td>3117.394239</td>\n",
              "      <td>1</td>\n",
              "      <td>18021</td>\n",
              "      <td>1</td>\n",
              "      <td>533</td>\n",
              "      <td>1</td>\n",
              "      <td>0</td>\n",
              "      <td>169.000000</td>\n",
              "      <td>213.750000</td>\n",
              "      <td>648.588189</td>\n",
              "      <td>803.050535</td>\n",
              "      <td>696.905247</td>\n",
              "      <td>615.156712</td>\n",
              "      <td>0</td>\n",
              "      <td>-9</td>\n",
              "      <td>73738</td>\n",
              "      <td>15738</td>\n",
              "      <td>26213</td>\n",
              "      <td>40322</td>\n",
              "      <td>51616.6</td>\n",
              "      <td>20234.571429</td>\n",
              "      <td>...</td>\n",
              "      <td>4</td>\n",
              "      <td>72.898038</td>\n",
              "      <td>2</td>\n",
              "      <td>48.402635</td>\n",
              "      <td>2</td>\n",
              "      <td>290.250487</td>\n",
              "      <td>4</td>\n",
              "      <td>84.001102</td>\n",
              "      <td>2</td>\n",
              "      <td>37.077624</td>\n",
              "      <td>2</td>\n",
              "      <td>222.339102</td>\n",
              "      <td>4</td>\n",
              "      <td>64.346936</td>\n",
              "      <td>2</td>\n",
              "      <td>1</td>\n",
              "      <td>0</td>\n",
              "      <td>5</td>\n",
              "      <td>1</td>\n",
              "      <td>2</td>\n",
              "      <td>0</td>\n",
              "      <td>4</td>\n",
              "      <td>4</td>\n",
              "      <td>4</td>\n",
              "      <td>4</td>\n",
              "      <td>3</td>\n",
              "      <td>1</td>\n",
              "      <td>1</td>\n",
              "      <td>1</td>\n",
              "      <td>1</td>\n",
              "      <td>1</td>\n",
              "      <td>1</td>\n",
              "      <td>1</td>\n",
              "      <td>1</td>\n",
              "      <td>1</td>\n",
              "      <td>2</td>\n",
              "      <td>0</td>\n",
              "      <td>2</td>\n",
              "      <td>0</td>\n",
              "      <td>0</td>\n",
              "    </tr>\n",
              "    <tr>\n",
              "      <th>1</th>\n",
              "      <td>1</td>\n",
              "      <td>50</td>\n",
              "      <td>4</td>\n",
              "      <td>2</td>\n",
              "      <td>55846</td>\n",
              "      <td>1100</td>\n",
              "      <td>17165</td>\n",
              "      <td>28604</td>\n",
              "      <td>45744</td>\n",
              "      <td>24218</td>\n",
              "      <td>4</td>\n",
              "      <td>1980</td>\n",
              "      <td>0</td>\n",
              "      <td>1</td>\n",
              "      <td>130000</td>\n",
              "      <td>-6</td>\n",
              "      <td>1</td>\n",
              "      <td>1</td>\n",
              "      <td>6</td>\n",
              "      <td>2150.725544</td>\n",
              "      <td>4</td>\n",
              "      <td>122961</td>\n",
              "      <td>1</td>\n",
              "      <td>487</td>\n",
              "      <td>1</td>\n",
              "      <td>0</td>\n",
              "      <td>245.333333</td>\n",
              "      <td>58.333333</td>\n",
              "      <td>1167.640781</td>\n",
              "      <td>1669.643405</td>\n",
              "      <td>1324.671218</td>\n",
              "      <td>1058.988479</td>\n",
              "      <td>123000</td>\n",
              "      <td>-9</td>\n",
              "      <td>55846</td>\n",
              "      <td>17165</td>\n",
              "      <td>28604</td>\n",
              "      <td>45744</td>\n",
              "      <td>55846.0</td>\n",
              "      <td>19911.400000</td>\n",
              "      <td>...</td>\n",
              "      <td>4</td>\n",
              "      <td>120.424656</td>\n",
              "      <td>3</td>\n",
              "      <td>103.094063</td>\n",
              "      <td>6</td>\n",
              "      <td>275.768999</td>\n",
              "      <td>4</td>\n",
              "      <td>151.785764</td>\n",
              "      <td>3</td>\n",
              "      <td>65.388468</td>\n",
              "      <td>4</td>\n",
              "      <td>174.909320</td>\n",
              "      <td>3</td>\n",
              "      <td>96.271680</td>\n",
              "      <td>2</td>\n",
              "      <td>1</td>\n",
              "      <td>0</td>\n",
              "      <td>3</td>\n",
              "      <td>1</td>\n",
              "      <td>4</td>\n",
              "      <td>0</td>\n",
              "      <td>3</td>\n",
              "      <td>4</td>\n",
              "      <td>4</td>\n",
              "      <td>3</td>\n",
              "      <td>4</td>\n",
              "      <td>2</td>\n",
              "      <td>2</td>\n",
              "      <td>2</td>\n",
              "      <td>1</td>\n",
              "      <td>3</td>\n",
              "      <td>3</td>\n",
              "      <td>3</td>\n",
              "      <td>5</td>\n",
              "      <td>3</td>\n",
              "      <td>7</td>\n",
              "      <td>0</td>\n",
              "      <td>1</td>\n",
              "      <td>0</td>\n",
              "      <td>0</td>\n",
              "    </tr>\n",
              "    <tr>\n",
              "      <th>2</th>\n",
              "      <td>2</td>\n",
              "      <td>53</td>\n",
              "      <td>4</td>\n",
              "      <td>2</td>\n",
              "      <td>55846</td>\n",
              "      <td>1100</td>\n",
              "      <td>13750</td>\n",
              "      <td>22897</td>\n",
              "      <td>36614</td>\n",
              "      <td>15470</td>\n",
              "      <td>4</td>\n",
              "      <td>1985</td>\n",
              "      <td>0</td>\n",
              "      <td>1</td>\n",
              "      <td>150000</td>\n",
              "      <td>-6</td>\n",
              "      <td>1</td>\n",
              "      <td>1</td>\n",
              "      <td>7</td>\n",
              "      <td>2213.789404</td>\n",
              "      <td>2</td>\n",
              "      <td>27974</td>\n",
              "      <td>1</td>\n",
              "      <td>1405</td>\n",
              "      <td>1</td>\n",
              "      <td>0</td>\n",
              "      <td>159.000000</td>\n",
              "      <td>37.500000</td>\n",
              "      <td>1193.393209</td>\n",
              "      <td>1772.627006</td>\n",
              "      <td>1374.582175</td>\n",
              "      <td>1068.025168</td>\n",
              "      <td>28000</td>\n",
              "      <td>-9</td>\n",
              "      <td>55846</td>\n",
              "      <td>13750</td>\n",
              "      <td>22897</td>\n",
              "      <td>36614</td>\n",
              "      <td>44676.8</td>\n",
              "      <td>19937.500000</td>\n",
              "      <td>...</td>\n",
              "      <td>4</td>\n",
              "      <td>124.962016</td>\n",
              "      <td>3</td>\n",
              "      <td>109.452905</td>\n",
              "      <td>6</td>\n",
              "      <td>458.339239</td>\n",
              "      <td>4</td>\n",
              "      <td>161.147910</td>\n",
              "      <td>3</td>\n",
              "      <td>65.946449</td>\n",
              "      <td>4</td>\n",
              "      <td>276.153890</td>\n",
              "      <td>4</td>\n",
              "      <td>97.093197</td>\n",
              "      <td>2</td>\n",
              "      <td>1</td>\n",
              "      <td>0</td>\n",
              "      <td>3</td>\n",
              "      <td>1</td>\n",
              "      <td>4</td>\n",
              "      <td>0</td>\n",
              "      <td>4</td>\n",
              "      <td>4</td>\n",
              "      <td>4</td>\n",
              "      <td>4</td>\n",
              "      <td>3</td>\n",
              "      <td>2</td>\n",
              "      <td>2</td>\n",
              "      <td>2</td>\n",
              "      <td>1</td>\n",
              "      <td>2</td>\n",
              "      <td>3</td>\n",
              "      <td>4</td>\n",
              "      <td>5</td>\n",
              "      <td>3</td>\n",
              "      <td>4</td>\n",
              "      <td>0</td>\n",
              "      <td>3</td>\n",
              "      <td>0</td>\n",
              "      <td>0</td>\n",
              "    </tr>\n",
              "    <tr>\n",
              "      <th>3</th>\n",
              "      <td>3</td>\n",
              "      <td>67</td>\n",
              "      <td>4</td>\n",
              "      <td>2</td>\n",
              "      <td>55846</td>\n",
              "      <td>949</td>\n",
              "      <td>13750</td>\n",
              "      <td>22897</td>\n",
              "      <td>36614</td>\n",
              "      <td>13964</td>\n",
              "      <td>3</td>\n",
              "      <td>1985</td>\n",
              "      <td>0</td>\n",
              "      <td>1</td>\n",
              "      <td>200000</td>\n",
              "      <td>-6</td>\n",
              "      <td>1</td>\n",
              "      <td>1</td>\n",
              "      <td>6</td>\n",
              "      <td>2364.585097</td>\n",
              "      <td>2</td>\n",
              "      <td>32220</td>\n",
              "      <td>1</td>\n",
              "      <td>279</td>\n",
              "      <td>1</td>\n",
              "      <td>0</td>\n",
              "      <td>179.000000</td>\n",
              "      <td>70.666667</td>\n",
              "      <td>1578.857612</td>\n",
              "      <td>2351.169341</td>\n",
              "      <td>1820.442900</td>\n",
              "      <td>1411.700224</td>\n",
              "      <td>0</td>\n",
              "      <td>-9</td>\n",
              "      <td>55846</td>\n",
              "      <td>13750</td>\n",
              "      <td>22897</td>\n",
              "      <td>36614</td>\n",
              "      <td>44676.8</td>\n",
              "      <td>17875.000000</td>\n",
              "      <td>...</td>\n",
              "      <td>4</td>\n",
              "      <td>191.827492</td>\n",
              "      <td>3</td>\n",
              "      <td>161.926709</td>\n",
              "      <td>7</td>\n",
              "      <td>673.494512</td>\n",
              "      <td>4</td>\n",
              "      <td>247.752301</td>\n",
              "      <td>3</td>\n",
              "      <td>97.224801</td>\n",
              "      <td>5</td>\n",
              "      <td>404.382763</td>\n",
              "      <td>4</td>\n",
              "      <td>148.756610</td>\n",
              "      <td>3</td>\n",
              "      <td>1</td>\n",
              "      <td>0</td>\n",
              "      <td>3</td>\n",
              "      <td>1</td>\n",
              "      <td>3</td>\n",
              "      <td>0</td>\n",
              "      <td>4</td>\n",
              "      <td>4</td>\n",
              "      <td>4</td>\n",
              "      <td>4</td>\n",
              "      <td>4</td>\n",
              "      <td>2</td>\n",
              "      <td>2</td>\n",
              "      <td>2</td>\n",
              "      <td>2</td>\n",
              "      <td>2</td>\n",
              "      <td>5</td>\n",
              "      <td>6</td>\n",
              "      <td>6</td>\n",
              "      <td>4</td>\n",
              "      <td>4</td>\n",
              "      <td>0</td>\n",
              "      <td>1</td>\n",
              "      <td>0</td>\n",
              "      <td>0</td>\n",
              "    </tr>\n",
              "    <tr>\n",
              "      <th>4</th>\n",
              "      <td>4</td>\n",
              "      <td>26</td>\n",
              "      <td>0</td>\n",
              "      <td>2</td>\n",
              "      <td>60991</td>\n",
              "      <td>737</td>\n",
              "      <td>14801</td>\n",
              "      <td>24628</td>\n",
              "      <td>39421</td>\n",
              "      <td>15492</td>\n",
              "      <td>2</td>\n",
              "      <td>1980</td>\n",
              "      <td>0</td>\n",
              "      <td>1</td>\n",
              "      <td>-6</td>\n",
              "      <td>-6</td>\n",
              "      <td>2</td>\n",
              "      <td>100</td>\n",
              "      <td>4</td>\n",
              "      <td>2314.524902</td>\n",
              "      <td>2</td>\n",
              "      <td>96874</td>\n",
              "      <td>1</td>\n",
              "      <td>759</td>\n",
              "      <td>5</td>\n",
              "      <td>1</td>\n",
              "      <td>146.000000</td>\n",
              "      <td>12.500000</td>\n",
              "      <td>759.000000</td>\n",
              "      <td>759.000000</td>\n",
              "      <td>759.000000</td>\n",
              "      <td>759.000000</td>\n",
              "      <td>96900</td>\n",
              "      <td>0</td>\n",
              "      <td>60991</td>\n",
              "      <td>14801</td>\n",
              "      <td>24628</td>\n",
              "      <td>39421</td>\n",
              "      <td>48792.8</td>\n",
              "      <td>16651.125000</td>\n",
              "      <td>...</td>\n",
              "      <td>3</td>\n",
              "      <td>102.985075</td>\n",
              "      <td>3</td>\n",
              "      <td>55.308707</td>\n",
              "      <td>3</td>\n",
              "      <td>195.972115</td>\n",
              "      <td>3</td>\n",
              "      <td>102.985075</td>\n",
              "      <td>3</td>\n",
              "      <td>55.308707</td>\n",
              "      <td>3</td>\n",
              "      <td>195.972115</td>\n",
              "      <td>3</td>\n",
              "      <td>102.985075</td>\n",
              "      <td>3</td>\n",
              "      <td>1</td>\n",
              "      <td>1</td>\n",
              "      <td>3</td>\n",
              "      <td>5</td>\n",
              "      <td>2</td>\n",
              "      <td>1</td>\n",
              "      <td>3</td>\n",
              "      <td>3</td>\n",
              "      <td>3</td>\n",
              "      <td>3</td>\n",
              "      <td>4</td>\n",
              "      <td>2</td>\n",
              "      <td>2</td>\n",
              "      <td>2</td>\n",
              "      <td>2</td>\n",
              "      <td>3</td>\n",
              "      <td>2</td>\n",
              "      <td>2</td>\n",
              "      <td>2</td>\n",
              "      <td>2</td>\n",
              "      <td>7</td>\n",
              "      <td>1</td>\n",
              "      <td>1</td>\n",
              "      <td>0</td>\n",
              "      <td>0</td>\n",
              "    </tr>\n",
              "  </tbody>\n",
              "</table>\n",
              "<p>5 rows × 99 columns</p>\n",
              "</div>"
            ],
            "text/plain": [
              "   CONTROL  AGE1  METRO3  REGION  ...  FMTASSISTED  FMTBURDEN  FMTREGION  FMTSTATUS\n",
              "0        0    82       2       0  ...            0          2          0          0\n",
              "1        1    50       4       2  ...            0          1          0          0\n",
              "2        2    53       4       2  ...            0          3          0          0\n",
              "3        3    67       4       2  ...            0          1          0          0\n",
              "4        4    26       0       2  ...            1          1          0          0\n",
              "\n",
              "[5 rows x 99 columns]"
            ]
          },
          "metadata": {
            "tags": []
          },
          "execution_count": 32
        }
      ]
    },
    {
      "cell_type": "code",
      "metadata": {
        "id": "6NS5AQpcQ8Je",
        "colab_type": "code",
        "colab": {
          "base_uri": "https://localhost:8080/",
          "height": 221
        },
        "outputId": "06b883ec-659a-4323-a013-83366123d466"
      },
      "source": [
        "# Now we only ahve numeric columns (ints and floats)\n",
        "national_processed.dtypes"
      ],
      "execution_count": 33,
      "outputs": [
        {
          "output_type": "execute_result",
          "data": {
            "text/plain": [
              "CONTROL            int32\n",
              "AGE1               int64\n",
              "METRO3              int8\n",
              "REGION              int8\n",
              "LMED               int64\n",
              "                   ...  \n",
              "FMTINCRELAMICAT     int8\n",
              "FMTASSISTED         int8\n",
              "FMTBURDEN           int8\n",
              "FMTREGION           int8\n",
              "FMTSTATUS           int8\n",
              "Length: 99, dtype: object"
            ]
          },
          "metadata": {
            "tags": []
          },
          "execution_count": 33
        }
      ]
    },
    {
      "cell_type": "code",
      "metadata": {
        "id": "WAJ8bjVcEwhA",
        "colab_type": "code",
        "colab": {
          "base_uri": "https://localhost:8080/",
          "height": 136
        },
        "outputId": "486095d0-e802-4ead-b4ef-3fe22ef35e95"
      },
      "source": [
        "from sklearn.preprocessing import StandardScaler\n",
        "from sklearn.decomposition import PCA\n",
        "\n",
        "scaler = StandardScaler()\n",
        "national_processed_stand = scaler.fit_transform(national_processed)\n",
        "pca = PCA(2)\n",
        "pca.fit(national_processed_stand)\n",
        "post_pca = pca.transform(national_processed_stand)\n",
        "post_pca"
      ],
      "execution_count": 35,
      "outputs": [
        {
          "output_type": "execute_result",
          "data": {
            "text/plain": [
              "array([[-2.57657018, -1.37612732],\n",
              "       [ 2.04064284, -0.98806144],\n",
              "       [ 1.21527025,  0.37016816],\n",
              "       ...,\n",
              "       [ 1.83162816, -2.95570213],\n",
              "       [-5.02514474, -2.52857814],\n",
              "       [-9.89816404, -0.80284267]])"
            ]
          },
          "metadata": {
            "tags": []
          },
          "execution_count": 35
        }
      ]
    },
    {
      "cell_type": "code",
      "metadata": {
        "id": "VmyDeLvouXLj",
        "colab_type": "code",
        "colab": {
          "base_uri": "https://localhost:8080/",
          "height": 419
        },
        "outputId": "c70e2d22-fe76-493b-8e3c-d0487c036b1d"
      },
      "source": [
        "data = pd.DataFrame(post_pca,columns=['PCA1','PCA2'])\n",
        "data"
      ],
      "execution_count": 38,
      "outputs": [
        {
          "output_type": "execute_result",
          "data": {
            "text/html": [
              "<div>\n",
              "<style scoped>\n",
              "    .dataframe tbody tr th:only-of-type {\n",
              "        vertical-align: middle;\n",
              "    }\n",
              "\n",
              "    .dataframe tbody tr th {\n",
              "        vertical-align: top;\n",
              "    }\n",
              "\n",
              "    .dataframe thead th {\n",
              "        text-align: right;\n",
              "    }\n",
              "</style>\n",
              "<table border=\"1\" class=\"dataframe\">\n",
              "  <thead>\n",
              "    <tr style=\"text-align: right;\">\n",
              "      <th></th>\n",
              "      <th>PCA1</th>\n",
              "      <th>PCA2</th>\n",
              "    </tr>\n",
              "  </thead>\n",
              "  <tbody>\n",
              "    <tr>\n",
              "      <th>0</th>\n",
              "      <td>-2.576570</td>\n",
              "      <td>-1.376127</td>\n",
              "    </tr>\n",
              "    <tr>\n",
              "      <th>1</th>\n",
              "      <td>2.040643</td>\n",
              "      <td>-0.988061</td>\n",
              "    </tr>\n",
              "    <tr>\n",
              "      <th>2</th>\n",
              "      <td>1.215270</td>\n",
              "      <td>0.370168</td>\n",
              "    </tr>\n",
              "    <tr>\n",
              "      <th>3</th>\n",
              "      <td>2.821837</td>\n",
              "      <td>1.723711</td>\n",
              "    </tr>\n",
              "    <tr>\n",
              "      <th>4</th>\n",
              "      <td>-1.570106</td>\n",
              "      <td>-0.878362</td>\n",
              "    </tr>\n",
              "    <tr>\n",
              "      <th>...</th>\n",
              "      <td>...</td>\n",
              "      <td>...</td>\n",
              "    </tr>\n",
              "    <tr>\n",
              "      <th>64530</th>\n",
              "      <td>-3.052490</td>\n",
              "      <td>0.413172</td>\n",
              "    </tr>\n",
              "    <tr>\n",
              "      <th>64531</th>\n",
              "      <td>-6.533380</td>\n",
              "      <td>-5.274883</td>\n",
              "    </tr>\n",
              "    <tr>\n",
              "      <th>64532</th>\n",
              "      <td>1.831628</td>\n",
              "      <td>-2.955702</td>\n",
              "    </tr>\n",
              "    <tr>\n",
              "      <th>64533</th>\n",
              "      <td>-5.025145</td>\n",
              "      <td>-2.528578</td>\n",
              "    </tr>\n",
              "    <tr>\n",
              "      <th>64534</th>\n",
              "      <td>-9.898164</td>\n",
              "      <td>-0.802843</td>\n",
              "    </tr>\n",
              "  </tbody>\n",
              "</table>\n",
              "<p>64535 rows × 2 columns</p>\n",
              "</div>"
            ],
            "text/plain": [
              "           PCA1      PCA2\n",
              "0     -2.576570 -1.376127\n",
              "1      2.040643 -0.988061\n",
              "2      1.215270  0.370168\n",
              "3      2.821837  1.723711\n",
              "4     -1.570106 -0.878362\n",
              "...         ...       ...\n",
              "64530 -3.052490  0.413172\n",
              "64531 -6.533380 -5.274883\n",
              "64532  1.831628 -2.955702\n",
              "64533 -5.025145 -2.528578\n",
              "64534 -9.898164 -0.802843\n",
              "\n",
              "[64535 rows x 2 columns]"
            ]
          },
          "metadata": {
            "tags": []
          },
          "execution_count": 38
        }
      ]
    },
    {
      "cell_type": "code",
      "metadata": {
        "id": "w9GwV4gDu0zZ",
        "colab_type": "code",
        "colab": {
          "base_uri": "https://localhost:8080/",
          "height": 281
        },
        "outputId": "b6793dd3-aeec-43ff-f131-b4b577f85d82"
      },
      "source": [
        "plt.scatter(data['PCA1'],data['PCA2'])\n",
        "plt.title('Housing Affordability Data After Principal Component Analysis')\n",
        "plt.show()"
      ],
      "execution_count": 39,
      "outputs": [
        {
          "output_type": "display_data",
          "data": {
            "image/png": "[encoded data removed]",
            "text/plain": [
              "<Figure size 432x288 with 1 Axes>"
            ]
          },
          "metadata": {
            "tags": [],
            "needs_background": "light"
          }
        }
      ]
    },
    {
      "cell_type": "markdown",
      "metadata": {
        "id": "RQx7UvsucIrL",
        "colab_type": "text"
      },
      "source": [
        "# Stretch Goals\n",
        "\n",
        "## 1) Perform further data exploration on the HADS national dataset (the version before we one-hot encoded it) Make scatterplots and see if you can see any resemblance between the original scatterplots and the plot of the principal components that you made in 7.1. \n",
        "\n",
        "(You may or may not not see very much resemblance depending on the variables you choose, and that's ok!)\n",
        "\n",
        "## 2) Study \"Scree Plots\" and then try and make one for your PCA dataset. How many principal conponents do you need to retain in order for your PCs to contain 90% of the explained variance? \n",
        "\n",
        "We will present this topic formally at the beginning of tomorrow's lecture, so if you figure this stretch goal out, you're ahead of the game. \n",
        "\n",
        "## 3) Explore further the intuition behind eigenvalues and eigenvectors by creating your very own eigenfaces:\n",
        "\n",
        "Prioritize self-study over this stretch goal if you are not semi-comfortable with the topics of PCA, Eigenvalues, and Eigenvectors.\n",
        "\n",
        "![Eigenfaces](https://i.pinimg.com/236x/1c/f1/01/1cf101a9859437a5d096a04b05be06b4--faces-tattoo.jpg)\n",
        "\n",
        "You don't necessarily have to use this resource, but this will get you started: \n",
        "[Eigenface Tutorial](https://sandipanweb.wordpress.com/2018/01/06/eigenfaces-and-a-simple-face-detector-with-pca-svd-in-python/)"
      ]
    }
  ]
}